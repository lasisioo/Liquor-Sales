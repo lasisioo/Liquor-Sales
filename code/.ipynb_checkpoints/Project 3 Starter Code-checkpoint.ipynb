{
 "cells": [
  {
   "cell_type": "markdown",
   "metadata": {},
   "source": [
    "# Getting started\n",
    "\n",
    "Once you've chosen your scenario, download the data from [the Iowa website](https://data.iowa.gov/Economy/Iowa-Liquor-Sales/m3tr-qhgy) in csv format. Start by loading the data with pandas. You may need to parse the date columns appropriately."
   ]
  },
  {
   "cell_type": "code",
   "execution_count": null,
   "metadata": {
    "collapsed": false
   },
   "outputs": [],
   "source": [
    "import pandas as pd\n",
    "% matplotlib inline\n",
    "## Load the data into a DataFrame\n",
    "df = pd.read_csv(\"../assets/Iowa_Liquor_sales_sample_10pct.csv\")\n",
    "## Transform the dates if needed, e.g.\n",
    "df[\"Date\"] = pd.to_datetime(df[\"Date\"], format=\"%m/%d/%Y\")\n",
    "df.head()\n",
    "df.dtypes"
   ]
  },
  {
   "cell_type": "code",
   "execution_count": null,
   "metadata": {
    "collapsed": false
   },
   "outputs": [],
   "source": [
    "df.describe()\n",
    "df.count()"
   ]
  },
  {
   "cell_type": "markdown",
   "metadata": {},
   "source": [
    "From the count above, we see than the numbers of observations in columns are not equal (thie means that there are some missing entries in this data frame). Because, this is a pretty large dataset, I can drop rows with missing variables without greatly affecting the data. Before exploring the data, I create a new table with the columns that I will need for statistical analysis."
   ]
  },
  {
   "cell_type": "code",
   "execution_count": null,
   "metadata": {
    "collapsed": false,
    "scrolled": true
   },
   "outputs": [],
   "source": [
    "#First, I drop the rows with the missing entries, and then the \"Category\" and the \"Item number\" columns\n",
    "df2 = df.dropna()\n",
    "df2.drop([\"Category\", \"Item Number\"], axis=1, inplace=True)\n",
    "df2.count()"
   ]
  },
  {
   "cell_type": "code",
   "execution_count": null,
   "metadata": {
    "collapsed": false
   },
   "outputs": [],
   "source": [
    "#Then I change the Cost, Retail and Sale values from an opject datatype to a float datatype\n",
    "\n",
    "def getType(field):\n",
    "    return field.replace(\"$\", \"\")\n",
    "\n",
    "df2[\"Sale (Dollars)\"] = df2[\"Sale (Dollars)\"].apply(getType).astype(float)\n",
    "df2[\"State Bottle Cost\"] = df2[\"State Bottle Cost\"].apply(getType).astype(float)\n",
    "df2[\"State Bottle Retail\"] = df2[\"State Bottle Retail\"].apply(getType).astype(float)\n",
    "df2.head(5)\n"
   ]
  },
  {
   "cell_type": "code",
   "execution_count": null,
   "metadata": {
    "collapsed": false
   },
   "outputs": [],
   "source": [
    "#Now, I want to add a columns for total cost and total profit, in dollars.\n",
    "\n",
    "df2[\"Total Cost (Dollars)\"] = df2[\"State Bottle Cost\"] * df2[\"Bottles Sold\"]\n",
    "df2[\"Total Profit (Dollars)\"] = df2[\"Sale (Dollars)\"] - df2[\"Total Cost (Dollars)\"]\n",
    "df2[\"Average Price per Bottle\"] = df2[\"Sale (Dollars)\"] / df2[\"Bottles Sold\"]\n",
    "df2.head(5)"
   ]
  },
  {
   "cell_type": "code",
   "execution_count": null,
   "metadata": {
    "collapsed": false,
    "scrolled": true
   },
   "outputs": [],
   "source": [
    "#I also want to create a two new columns that hold the month and year of transaction for each row\n",
    "monthList = []\n",
    "yearList = []\n",
    "for i in df2[\"Date\"]:\n",
    "    x = i.to_datetime()\n",
    "    y = i.month\n",
    "    z = i.year\n",
    "    monthList.append(y)\n",
    "    yearList.append(z)\n",
    "df2[\"Month\"] = monthList\n",
    "df2[\"Year\"] = yearList"
   ]
  },
  {
   "cell_type": "code",
   "execution_count": null,
   "metadata": {
    "collapsed": false,
    "scrolled": true
   },
   "outputs": [],
   "source": [
    "#Lets look at the dataframe to make sure it looks exactly how we want it to:\n",
    "df2"
   ]
  },
  {
   "cell_type": "code",
   "execution_count": null,
   "metadata": {
    "collapsed": false
   },
   "outputs": [],
   "source": [
    "groupedDf2 = df2.groupby([\"County\", \"Store Number\", \"Year\", \"Month\"]).apply(lambda x: sum(x[\"Total Profit (Dollars)\"]))\n",
    "#, \"Store Number\", \"Year\", \"Month\")\n",
    "groupedDf2\n",
    "df3 = pd.DataFrame(groupedDf2)\n",
    "df3"
   ]
  },
  {
   "cell_type": "code",
   "execution_count": null,
   "metadata": {
    "collapsed": false
   },
   "outputs": [],
   "source": [
    "import numpy as np\n",
    "\n",
    "newZip = set(df2[\"Zip Code\"])\n",
    "newCounty = sorted(set(df2[\"County\"]))\n",
    "newCity = set(df2[\"City\"])\n",
    " \n",
    "totalSales = []\n",
    "sumProfit = []\n",
    "averageBottlePrice =[]\n",
    "    \n",
    "for c in newCounty:\n",
    "    mask = df2[\"County\"] == c\n",
    "    newCounty.append(c)\n",
    "    totalSales.append(sum(df2[mask][\"Sale (Dollars)\"]))\n",
    "    sumProfit.append(sum(df2[mask][\"Total Profit (Dollars)\"]))\n",
    "    averageBottlePrice.append(np.mean(df2[mask][\"Average Price per Bottle\"]))\n",
    "#scoreList.append(lm.score(X,y))"
   ]
  },
  {
   "cell_type": "markdown",
   "metadata": {},
   "source": [
    "# Explore the data\n",
    "\n",
    "Perform some exploratory statistical analysis and make some plots, such as histograms of transaction totals, bottles sold, etc."
   ]
  },
  {
   "cell_type": "code",
   "execution_count": null,
   "metadata": {
    "collapsed": false
   },
   "outputs": [],
   "source": [
    "import seaborn as sns\n",
    "import matplotlib.pyplot as plt\n",
    "\n"
   ]
  },
  {
   "cell_type": "markdown",
   "metadata": {},
   "source": [
    "## Record your findings\n",
    "\n",
    "Be sure to write out anything observations from your exploratory analysis."
   ]
  },
  {
   "cell_type": "markdown",
   "metadata": {},
   "source": [
    "# Mine the data\n",
    "Now you are ready to compute the variables you will use for your regression from the data. For example, you may want to\n",
    "compute total sales per store from Jan to March of 2015, mean price per bottle, etc. Refer to the readme for more ideas appropriate to your scenario.\n",
    "\n",
    "Pandas is your friend for this task. Take a look at the operations [here](http://pandas.pydata.org/pandas-docs/stable/groupby.html) for ideas on how to make the best use of pandas and feel free to search for blog and Stack Overflow posts to help you group data by certain variables and compute sums, means, etc. You may find it useful to create a new data frame to house this summary data."
   ]
  },
  {
   "cell_type": "markdown",
   "metadata": {},
   "source": [
    "# Refine the data\n",
    "Look for any statistical relationships, correlations, or other relevant properties of the dataset."
   ]
  },
  {
   "cell_type": "code",
   "execution_count": null,
   "metadata": {
    "collapsed": false
   },
   "outputs": [],
   "source": [
    "sns.heatmap(df2.corr())"
   ]
  },
  {
   "cell_type": "markdown",
   "metadata": {},
   "source": [
    "# Build your models\n",
    "\n",
    "Using scikit-learn or statsmodels, build the necessary models for your scenario. Evaluate model fit."
   ]
  },
  {
   "cell_type": "code",
   "execution_count": null,
   "metadata": {
    "collapsed": true
   },
   "outputs": [],
   "source": [
    "from sklearn import linear_model\n"
   ]
  },
  {
   "cell_type": "markdown",
   "metadata": {},
   "source": [
    "## Plot your results\n",
    "\n",
    "Again make sure that you record any valuable information. For example, in the tax scenario, did you find the sales from the first three months of the year to be a good predictor of the total sales for the year? Plot the predictions versus the true values and discuss the successes and limitations of your models"
   ]
  },
  {
   "cell_type": "code",
   "execution_count": null,
   "metadata": {
    "collapsed": true
   },
   "outputs": [],
   "source": []
  },
  {
   "cell_type": "markdown",
   "metadata": {},
   "source": [
    "# Present the Results\n",
    "\n",
    "Present your conclusions and results. If you have more than one interesting model feel free to include more than one along with a discussion. Use your work in this notebook to prepare your write-up."
   ]
  },
  {
   "cell_type": "code",
   "execution_count": null,
   "metadata": {
    "collapsed": true
   },
   "outputs": [],
   "source": []
  },
  {
   "cell_type": "code",
   "execution_count": null,
   "metadata": {
    "collapsed": true
   },
   "outputs": [],
   "source": []
  }
 ],
 "metadata": {
  "kernelspec": {
   "display_name": "Python 2",
   "language": "python",
   "name": "python2"
  },
  "language_info": {
   "codemirror_mode": {
    "name": "ipython",
    "version": 2
   },
   "file_extension": ".py",
   "mimetype": "text/x-python",
   "name": "python",
   "nbconvert_exporter": "python",
   "pygments_lexer": "ipython2",
   "version": "2.7.11"
  }
 },
 "nbformat": 4,
 "nbformat_minor": 0
}
